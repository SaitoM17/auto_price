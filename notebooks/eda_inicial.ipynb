{
 "cells": [
  {
   "cell_type": "code",
   "execution_count": 1,
   "id": "15a2a9f0",
   "metadata": {},
   "outputs": [],
   "source": [
    "import pandas as pd"
   ]
  },
  {
   "cell_type": "code",
   "execution_count": 2,
   "id": "f0ff8ec4",
   "metadata": {},
   "outputs": [
    {
     "data": {
      "text/html": [
       "<div>\n",
       "<style scoped>\n",
       "    .dataframe tbody tr th:only-of-type {\n",
       "        vertical-align: middle;\n",
       "    }\n",
       "\n",
       "    .dataframe tbody tr th {\n",
       "        vertical-align: top;\n",
       "    }\n",
       "\n",
       "    .dataframe thead th {\n",
       "        text-align: right;\n",
       "    }\n",
       "</style>\n",
       "<table border=\"1\" class=\"dataframe\">\n",
       "  <thead>\n",
       "    <tr style=\"text-align: right;\">\n",
       "      <th></th>\n",
       "      <th>make</th>\n",
       "      <th>model</th>\n",
       "      <th>year</th>\n",
       "      <th>mileage</th>\n",
       "      <th>engine_hp</th>\n",
       "      <th>transmission</th>\n",
       "      <th>fuel_type</th>\n",
       "      <th>drivetrain</th>\n",
       "      <th>body_type</th>\n",
       "      <th>exterior_color</th>\n",
       "      <th>interior_color</th>\n",
       "      <th>owner_count</th>\n",
       "      <th>accident_history</th>\n",
       "      <th>seller_type</th>\n",
       "      <th>condition</th>\n",
       "      <th>trim</th>\n",
       "      <th>vehicle_age</th>\n",
       "      <th>mileage_per_year</th>\n",
       "      <th>brand_popularity</th>\n",
       "      <th>price</th>\n",
       "    </tr>\n",
       "  </thead>\n",
       "  <tbody>\n",
       "    <tr>\n",
       "      <th>0</th>\n",
       "      <td>Volkswagen</td>\n",
       "      <td>Jetta</td>\n",
       "      <td>2016</td>\n",
       "      <td>183903</td>\n",
       "      <td>173</td>\n",
       "      <td>Manual</td>\n",
       "      <td>Electric</td>\n",
       "      <td>RWD</td>\n",
       "      <td>Sedan</td>\n",
       "      <td>Blue</td>\n",
       "      <td>Brown</td>\n",
       "      <td>5</td>\n",
       "      <td>NaN</td>\n",
       "      <td>Dealer</td>\n",
       "      <td>Excellent</td>\n",
       "      <td>EX</td>\n",
       "      <td>9</td>\n",
       "      <td>20433.666667</td>\n",
       "      <td>0.040054</td>\n",
       "      <td>7208.52</td>\n",
       "    </tr>\n",
       "    <tr>\n",
       "      <th>1</th>\n",
       "      <td>Lexus</td>\n",
       "      <td>RX</td>\n",
       "      <td>2010</td>\n",
       "      <td>236643</td>\n",
       "      <td>352</td>\n",
       "      <td>Manual</td>\n",
       "      <td>Gasoline</td>\n",
       "      <td>FWD</td>\n",
       "      <td>Sedan</td>\n",
       "      <td>Silver</td>\n",
       "      <td>Beige</td>\n",
       "      <td>5</td>\n",
       "      <td>Minor</td>\n",
       "      <td>Dealer</td>\n",
       "      <td>Good</td>\n",
       "      <td>LX</td>\n",
       "      <td>15</td>\n",
       "      <td>15776.200000</td>\n",
       "      <td>0.039921</td>\n",
       "      <td>6911.81</td>\n",
       "    </tr>\n",
       "    <tr>\n",
       "      <th>2</th>\n",
       "      <td>Subaru</td>\n",
       "      <td>Crosstrek</td>\n",
       "      <td>2016</td>\n",
       "      <td>103199</td>\n",
       "      <td>188</td>\n",
       "      <td>Automatic</td>\n",
       "      <td>Diesel</td>\n",
       "      <td>AWD</td>\n",
       "      <td>Sedan</td>\n",
       "      <td>Silver</td>\n",
       "      <td>Beige</td>\n",
       "      <td>5</td>\n",
       "      <td>NaN</td>\n",
       "      <td>Dealer</td>\n",
       "      <td>Excellent</td>\n",
       "      <td>Touring</td>\n",
       "      <td>9</td>\n",
       "      <td>11466.555556</td>\n",
       "      <td>0.040230</td>\n",
       "      <td>11915.63</td>\n",
       "    </tr>\n",
       "    <tr>\n",
       "      <th>3</th>\n",
       "      <td>Cadillac</td>\n",
       "      <td>Lyriq</td>\n",
       "      <td>2016</td>\n",
       "      <td>118889</td>\n",
       "      <td>338</td>\n",
       "      <td>Manual</td>\n",
       "      <td>Gasoline</td>\n",
       "      <td>AWD</td>\n",
       "      <td>SUV</td>\n",
       "      <td>Black</td>\n",
       "      <td>Gray</td>\n",
       "      <td>3</td>\n",
       "      <td>NaN</td>\n",
       "      <td>Private</td>\n",
       "      <td>Good</td>\n",
       "      <td>Base</td>\n",
       "      <td>9</td>\n",
       "      <td>13209.888889</td>\n",
       "      <td>0.039847</td>\n",
       "      <td>25984.79</td>\n",
       "    </tr>\n",
       "    <tr>\n",
       "      <th>4</th>\n",
       "      <td>Toyota</td>\n",
       "      <td>Highlander</td>\n",
       "      <td>2018</td>\n",
       "      <td>204170</td>\n",
       "      <td>196</td>\n",
       "      <td>Manual</td>\n",
       "      <td>Diesel</td>\n",
       "      <td>FWD</td>\n",
       "      <td>Sedan</td>\n",
       "      <td>Red</td>\n",
       "      <td>Brown</td>\n",
       "      <td>5</td>\n",
       "      <td>Minor</td>\n",
       "      <td>Dealer</td>\n",
       "      <td>Excellent</td>\n",
       "      <td>Sport</td>\n",
       "      <td>7</td>\n",
       "      <td>29167.142857</td>\n",
       "      <td>0.039627</td>\n",
       "      <td>8151.30</td>\n",
       "    </tr>\n",
       "  </tbody>\n",
       "</table>\n",
       "</div>"
      ],
      "text/plain": [
       "         make       model  year  mileage  engine_hp transmission fuel_type  \\\n",
       "0  Volkswagen       Jetta  2016   183903        173       Manual  Electric   \n",
       "1       Lexus          RX  2010   236643        352       Manual  Gasoline   \n",
       "2      Subaru   Crosstrek  2016   103199        188    Automatic    Diesel   \n",
       "3    Cadillac       Lyriq  2016   118889        338       Manual  Gasoline   \n",
       "4      Toyota  Highlander  2018   204170        196       Manual    Diesel   \n",
       "\n",
       "  drivetrain body_type exterior_color interior_color  owner_count  \\\n",
       "0        RWD     Sedan           Blue          Brown            5   \n",
       "1        FWD     Sedan         Silver          Beige            5   \n",
       "2        AWD     Sedan         Silver          Beige            5   \n",
       "3        AWD       SUV          Black           Gray            3   \n",
       "4        FWD     Sedan            Red          Brown            5   \n",
       "\n",
       "  accident_history seller_type  condition     trim  vehicle_age  \\\n",
       "0              NaN      Dealer  Excellent       EX            9   \n",
       "1            Minor      Dealer       Good       LX           15   \n",
       "2              NaN      Dealer  Excellent  Touring            9   \n",
       "3              NaN     Private       Good     Base            9   \n",
       "4            Minor      Dealer  Excellent    Sport            7   \n",
       "\n",
       "   mileage_per_year  brand_popularity     price  \n",
       "0      20433.666667          0.040054   7208.52  \n",
       "1      15776.200000          0.039921   6911.81  \n",
       "2      11466.555556          0.040230  11915.63  \n",
       "3      13209.888889          0.039847  25984.79  \n",
       "4      29167.142857          0.039627   8151.30  "
      ]
     },
     "execution_count": 2,
     "metadata": {},
     "output_type": "execute_result"
    }
   ],
   "source": [
    "df_vehicle_price = pd.read_csv('../data/raw/vehicle_price_prediction.csv')\n",
    "df_vehicle_price.head(5)"
   ]
  },
  {
   "cell_type": "markdown",
   "id": "9a113c3a",
   "metadata": {},
   "source": [
    "#### **Análizar estructura y tipos de datos del conjunto de datos**"
   ]
  },
  {
   "cell_type": "code",
   "execution_count": 3,
   "id": "dec529a2",
   "metadata": {},
   "outputs": [
    {
     "name": "stdout",
     "output_type": "stream",
     "text": [
      "Cantidad de filas y columnas que conforman el conjunto de datos\n",
      "Filas: 1000000\n",
      "Columnas: 20\n",
      "\n"
     ]
    }
   ],
   "source": [
    "# Cantidad de filas y columnas que conforman el conjunto de datos\n",
    "filas, columnas = df_vehicle_price.shape\n",
    "print(f'''Cantidad de filas y columnas que conforman el conjunto de datos\n",
    "Filas: {filas}\n",
    "Columnas: {columnas}\n",
    "''')"
   ]
  },
  {
   "cell_type": "code",
   "execution_count": 4,
   "id": "aaa88666",
   "metadata": {},
   "outputs": [
    {
     "name": "stdout",
     "output_type": "stream",
     "text": [
      "<class 'pandas.core.frame.DataFrame'>\n",
      "RangeIndex: 1000000 entries, 0 to 999999\n",
      "Data columns (total 20 columns):\n",
      " #   Column            Non-Null Count    Dtype  \n",
      "---  ------            --------------    -----  \n",
      " 0   make              1000000 non-null  object \n",
      " 1   model             1000000 non-null  object \n",
      " 2   year              1000000 non-null  int64  \n",
      " 3   mileage           1000000 non-null  int64  \n",
      " 4   engine_hp         1000000 non-null  int64  \n",
      " 5   transmission      1000000 non-null  object \n",
      " 6   fuel_type         1000000 non-null  object \n",
      " 7   drivetrain        1000000 non-null  object \n",
      " 8   body_type         1000000 non-null  object \n",
      " 9   exterior_color    1000000 non-null  object \n",
      " 10  interior_color    1000000 non-null  object \n",
      " 11  owner_count       1000000 non-null  int64  \n",
      " 12  accident_history  249867 non-null   object \n",
      " 13  seller_type       1000000 non-null  object \n",
      " 14  condition         1000000 non-null  object \n",
      " 15  trim              1000000 non-null  object \n",
      " 16  vehicle_age       1000000 non-null  int64  \n",
      " 17  mileage_per_year  1000000 non-null  float64\n",
      " 18  brand_popularity  1000000 non-null  float64\n",
      " 19  price             1000000 non-null  float64\n",
      "dtypes: float64(3), int64(5), object(12)\n",
      "memory usage: 152.6+ MB\n"
     ]
    }
   ],
   "source": [
    "# Tipos de datos que tiene cada columna\n",
    "df_vehicle_price.info()"
   ]
  },
  {
   "cell_type": "markdown",
   "id": "02facb6e",
   "metadata": {},
   "source": [
    "Los tipos de datos son correctos en cada columna por lo que no sera necesario realizar una transformación de datos."
   ]
  },
  {
   "cell_type": "markdown",
   "id": "1479562d",
   "metadata": {},
   "source": [
    "#### **Revisión de cada columna por valores nulos/faltantes o errores**"
   ]
  },
  {
   "cell_type": "code",
   "execution_count": 5,
   "id": "6aa36d83",
   "metadata": {},
   "outputs": [
    {
     "name": "stdout",
     "output_type": "stream",
     "text": [
      "Columnas del conjunto de datos con valores nulos\n",
      "Columnas            Cant. Nulos\n",
      "make                         0\n",
      "model                        0\n",
      "year                         0\n",
      "mileage                      0\n",
      "engine_hp                    0\n",
      "transmission                 0\n",
      "fuel_type                    0\n",
      "drivetrain                   0\n",
      "body_type                    0\n",
      "exterior_color               0\n",
      "interior_color               0\n",
      "owner_count                  0\n",
      "accident_history        750133\n",
      "seller_type                  0\n",
      "condition                    0\n",
      "trim                         0\n",
      "vehicle_age                  0\n",
      "mileage_per_year             0\n",
      "brand_popularity             0\n",
      "price                        0\n"
     ]
    }
   ],
   "source": [
    "# Detectar valores nulos\n",
    "print(f'Columnas del conjunto de datos con valores nulos')\n",
    "print(f'{\"Columnas\":<19} {\"Cant. Nulos\":>10}')\n",
    "for col, va in df_vehicle_price.items():\n",
    "    col1 = df_vehicle_price[col].isnull().sum()\n",
    "    print(f'{col:<19} {col1:>10}')\n"
   ]
  },
  {
   "cell_type": "markdown",
   "id": "10b968f8",
   "metadata": {},
   "source": [
    "Se encontro que la columna `accident_history` es la unica columna con valores nulos."
   ]
  },
  {
   "cell_type": "code",
   "execution_count": 6,
   "id": "57ff42b3",
   "metadata": {},
   "outputs": [
    {
     "name": "stdout",
     "output_type": "stream",
     "text": [
      "Tipos de datos y cantidad de accident_history\n",
      "Minor    199981\n",
      "Major     49886\n",
      "Name: count, dtype: int64\n",
      "Cantidad de valores nulos encontrados\n",
      "750133\n"
     ]
    }
   ],
   "source": [
    "accident_history_col = df_vehicle_price['accident_history'].value_counts()\n",
    "accident_history_col_nulos = df_vehicle_price['accident_history'].isnull().sum()\n",
    "\n",
    "print(f'Tipos de datos y cantidad de {accident_history_col}')\n",
    "print(f'Cantidad de valores nulos encontrados\\n{accident_history_col_nulos}')\n",
    "\n"
   ]
  },
  {
   "cell_type": "markdown",
   "id": "f76e8077",
   "metadata": {},
   "source": [
    "Se encontro 2 tipos de datos en la columna `accident_history` que son **Minor** con *199981* y **Mayor** con *49886* por que nos quedan *750133* filas/registros con valores nulos, lo que nos puede dar a entener que estos vehiculos no tubieron accidentes por lo que se impura los registros con valores nulos y se colocara `No Accident`."
   ]
  },
  {
   "cell_type": "markdown",
   "id": "beb68df9",
   "metadata": {},
   "source": [
    "#### **Imputación de valores nulos en *'accident_history'***"
   ]
  },
  {
   "cell_type": "code",
   "execution_count": 7,
   "id": "ce1c30e1",
   "metadata": {},
   "outputs": [
    {
     "name": "stdout",
     "output_type": "stream",
     "text": [
      "Cantidad de valores nulos después de imputar: 0\n"
     ]
    }
   ],
   "source": [
    "df_vehicle_price['accident_history'] = df_vehicle_price['accident_history'].fillna('No Accident')\n",
    "valores_nulos = df_vehicle_price['accident_history'].isnull().sum()\n",
    "print(f'Cantidad de valores nulos después de imputar: {valores_nulos}')"
   ]
  }
 ],
 "metadata": {
  "kernelspec": {
   "display_name": "venv",
   "language": "python",
   "name": "python3"
  },
  "language_info": {
   "codemirror_mode": {
    "name": "ipython",
    "version": 3
   },
   "file_extension": ".py",
   "mimetype": "text/x-python",
   "name": "python",
   "nbconvert_exporter": "python",
   "pygments_lexer": "ipython3",
   "version": "3.13.7"
  }
 },
 "nbformat": 4,
 "nbformat_minor": 5
}
